{
 "cells": [
  {
   "cell_type": "code",
   "execution_count": 1,
   "metadata": {},
   "outputs": [],
   "source": [
    "from sklearn.ensemble import GradientBoostingRegressor as GB\n",
    "import xgboost as xgb # pip install xgboost\n",
    "from sklearn.datasets import load_boston\n",
    "from sklearn.datasets import make_regression as getData\n",
    "from sklearn.model_selection import train_test_split\n",
    "from sklearn.metrics import mean_absolute_error as mae"
   ]
  },
  {
   "cell_type": "code",
   "execution_count": 4,
   "metadata": {},
   "outputs": [],
   "source": [
    "#(X,y) = load_boston(return_X_y=True)\n",
    "X,y = getData(n_samples=10000, n_features=50)"
   ]
  },
  {
   "cell_type": "code",
   "execution_count": 5,
   "metadata": {},
   "outputs": [
    {
     "data": {
      "text/plain": [
       "(10000, 50)"
      ]
     },
     "execution_count": 5,
     "metadata": {},
     "output_type": "execute_result"
    }
   ],
   "source": [
    "X.shape"
   ]
  },
  {
   "cell_type": "code",
   "execution_count": 6,
   "metadata": {},
   "outputs": [],
   "source": [
    "Xtrain,Xtest,ytrain,ytest = train_test_split(X,y,test_size = 0.3)"
   ]
  },
  {
   "cell_type": "code",
   "execution_count": null,
   "metadata": {},
   "outputs": [],
   "source": [
    "\"\"\"\n",
    "y_gb , y_xgb = [] , []\n",
    "for ne in range(100,2000,500):\n",
    "    Mgb = GB(n_estimators = ne)\n",
    "    Mxgb = xgb.XGBRegressor(n_estimators = ne)\n",
    "    t = %timeit -n1 -r1 -o Mgb.fit(Xtrain,ytrain)\n",
    "    y_gb.append(t.best)\n",
    "    t = %timeit -n1 -r1 -o Mxgb.fit(Xtrain,ytrain)\n",
    "    y_xgb.append(t.best)\n",
    "\"\"\""
   ]
  },
  {
   "cell_type": "code",
   "execution_count": 7,
   "metadata": {},
   "outputs": [
    {
     "name": "stdout",
     "output_type": "stream",
     "text": [
      "1min 10s ± 0 ns per loop (mean ± std. dev. of 1 run, 1 loop each)\n",
      "24.7 s ± 0 ns per loop (mean ± std. dev. of 1 run, 1 loop each)\n"
     ]
    }
   ],
   "source": [
    "ne = 500\n",
    "Mgb = GB(n_estimators = ne)\n",
    "Mxgb = xgb.XGBRegressor(n_estimators = ne) \n",
    "t = %timeit -n1 -r1 -o Mgb.fit(Xtrain,ytrain)\n",
    "t = %timeit -n1 -r1 -o Mxgb.fit(Xtrain,ytrain)"
   ]
  },
  {
   "cell_type": "code",
   "execution_count": 8,
   "metadata": {},
   "outputs": [],
   "source": [
    "y_pred_gb = Mgb.predict(Xtest)\n",
    "y_pred_xgb = Mxgb.predict(Xtest)"
   ]
  },
  {
   "cell_type": "code",
   "execution_count": 9,
   "metadata": {},
   "outputs": [
    {
     "name": "stdout",
     "output_type": "stream",
     "text": [
      "16.317408732214673 33.910760103207764\n"
     ]
    }
   ],
   "source": [
    "print(mae(ytest,y_pred_gb),mae(ytest,y_pred_xgb))"
   ]
  },
  {
   "cell_type": "code",
   "execution_count": 10,
   "metadata": {},
   "outputs": [],
   "source": [
    "xgb.XGBRegressor?"
   ]
  },
  {
   "cell_type": "code",
   "execution_count": null,
   "metadata": {},
   "outputs": [],
   "source": []
  }
 ],
 "metadata": {
  "kernelspec": {
   "display_name": "Python 3",
   "language": "python",
   "name": "python3"
  },
  "language_info": {
   "codemirror_mode": {
    "name": "ipython",
    "version": 3
   },
   "file_extension": ".py",
   "mimetype": "text/x-python",
   "name": "python",
   "nbconvert_exporter": "python",
   "pygments_lexer": "ipython3",
   "version": "3.8.3"
  }
 },
 "nbformat": 4,
 "nbformat_minor": 4
}
